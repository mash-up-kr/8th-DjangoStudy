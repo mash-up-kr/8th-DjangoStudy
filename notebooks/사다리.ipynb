{
 "cells": [
  {
   "cell_type": "code",
   "execution_count": 1,
   "metadata": {},
   "outputs": [],
   "source": [
    "import random, time\n",
    "\n",
    "members_django = '길영,유민,승현,경훈,대윤,주희,주원,희진'.split(',')\n",
    "members_backend = [\n",
    "    '윤희',\n",
    "    '태웅',\n",
    "    '다롬',\n",
    "    '지안',\n",
    "    '길영',\n",
    "    '유정',\n",
    "    '재성',\n",
    "    '동현',\n",
    "    '유민',\n",
    "    '승현',\n",
    "    '혜란',\n",
    "    '경훈',\n",
    "    \n",
    "    '소연',\n",
    "    '지혜',\n",
    "    '주원',\n",
    "    '수진',\n",
    "    '희진',\n",
    "]"
   ]
  },
  {
   "cell_type": "code",
   "execution_count": 2,
   "metadata": {},
   "outputs": [
    {
     "data": {
      "text/plain": [
       "17"
      ]
     },
     "execution_count": 2,
     "metadata": {},
     "output_type": "execute_result"
    }
   ],
   "source": [
    "len(members_backend)"
   ]
  },
  {
   "cell_type": "code",
   "execution_count": 3,
   "metadata": {},
   "outputs": [],
   "source": [
    "def choice(members, remain=1, title='발표'):\n",
    "    for i in range(len(members)):\n",
    "        member = random.choice(members)\n",
    "        lucky = members.pop(members.index(member))\n",
    "        print(f'{\", \".join(members)} -> {lucky}')\n",
    "        if len(members) == remain:\n",
    "            break\n",
    "        time.sleep(1.5)\n",
    "    \n",
    "    print()\n",
    "    print(f' {title} 당첨!')\n",
    "    print(f'==== {\", \".join(members)} ====')"
   ]
  },
  {
   "cell_type": "code",
   "execution_count": 4,
   "metadata": {},
   "outputs": [
    {
     "name": "stdout",
     "output_type": "stream",
     "text": [
      "길영, 유민, 승현, 경훈, 주희, 주원, 희진 -> 대윤\n",
      "유민, 승현, 경훈, 주희, 주원, 희진 -> 길영\n",
      "유민, 승현, 경훈, 주희, 희진 -> 주원\n",
      "유민, 승현, 경훈, 희진 -> 주희\n",
      "유민, 경훈, 희진 -> 승현\n",
      "경훈, 희진 -> 유민\n",
      "\n",
      " 발표 당첨!\n",
      "==== 경훈, 희진 ====\n"
     ]
    }
   ],
   "source": [
    "choice(members_django, remain=2)"
   ]
  },
  {
   "cell_type": "code",
   "execution_count": null,
   "metadata": {},
   "outputs": [],
   "source": []
  },
  {
   "cell_type": "code",
   "execution_count": null,
   "metadata": {},
   "outputs": [],
   "source": []
  }
 ],
 "metadata": {
  "kernelspec": {
   "display_name": "Python 3",
   "language": "python",
   "name": "python3"
  },
  "language_info": {
   "codemirror_mode": {
    "name": "ipython",
    "version": 3
   },
   "file_extension": ".py",
   "mimetype": "text/x-python",
   "name": "python",
   "nbconvert_exporter": "python",
   "pygments_lexer": "ipython3",
   "version": "3.7.4"
  }
 },
 "nbformat": 4,
 "nbformat_minor": 2
}
