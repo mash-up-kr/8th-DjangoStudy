{
 "cells": [
  {
   "cell_type": "code",
   "execution_count": 106,
   "metadata": {},
   "outputs": [],
   "source": [
    "class Pokemon:\n",
    "    POKEMON_LIST = []\n",
    "    \n",
    "    def __init__(self, name, type):\n",
    "        self.friends = []\n",
    "        self.name = name\n",
    "        self.type = type\n",
    "        self._level = 1\n",
    "        Pokemon.POKEMON_LIST.append(self)\n",
    "        \n",
    "    @property\n",
    "    def level(self):\n",
    "        return self._level\n",
    "    \n",
    "    def level_up(self):\n",
    "        self._level += 1\n",
    "        \n",
    "    def add_friend(self, pokemon):\n",
    "        self.friends.append(pokemon)\n",
    "        \n",
    "    def show_friends(self):\n",
    "        if self.friends:\n",
    "            print('피카츄의 친구들: {friends} ({count}마리)'.format(\n",
    "                friends=', '.join([friend.name for friend in self.friends]),\n",
    "                count=len(self.friends),\n",
    "            ))\n",
    "        else:\n",
    "            print(f'{self.name}에게는 친구가 없습니다....')\n",
    "            \n",
    "    @classmethod\n",
    "    def show_total_pokemons(cls):\n",
    "        if cls.POKEMON_LIST:\n",
    "            print('전체 포켓몬: {pokemons}({count}마리)'.format(\n",
    "                pokemons=', '.join([pokemon.name for pokemon in cls.POKEMON_LIST]),\n",
    "                count=len(cls.POKEMON_LIST),\n",
    "            ))\n",
    "        else:\n",
    "            print('포켓몬이 없습니다...')"
   ]
  },
  {
   "cell_type": "code",
   "execution_count": null,
   "metadata": {},
   "outputs": [],
   "source": [
    "class Pokemon:\n",
    "    POKEMON_LIST = []\n",
    "    \n",
    "    def __init__(self, name, type):\n",
    "        self.friends = []\n",
    "        self.name = name\n",
    "        self.type = type\n",
    "        self.__level = 1\n",
    "        Pokemon.POKEMON_LIST.append(self)\n",
    "        \n",
    "    @property\n",
    "    def level(self):\n",
    "        # property를 사용해 level을 읽기전용 속성처럼 동작하도록 한다\n",
    "    \n",
    "    def level_up(self):\n",
    "        # private속성값을 변경\n",
    "        \n",
    "    def add_friend(self, pokemon):\n",
    "        # self.friends에 pokemon에 해당하는 Pokemon인스턴스를 추가\n",
    "        \n",
    "    def show_friends(self):\n",
    "        # 아래 출력예시를 보고 작성\n",
    "            \n",
    "    @classmethod\n",
    "    def show_total_pokemon(cls):\n",
    "        # 클래스 변수를 사용하여, 아래 출력예시대로 작성"
   ]
  },
  {
   "cell_type": "code",
   "execution_count": 100,
   "metadata": {},
   "outputs": [
    {
     "name": "stdout",
     "output_type": "stream",
     "text": [
      "포켓몬이 없습니다...\n"
     ]
    }
   ],
   "source": [
    "Pokemon.show_total_pokemon()"
   ]
  },
  {
   "cell_type": "code",
   "execution_count": 101,
   "metadata": {},
   "outputs": [
    {
     "data": {
      "text/plain": [
       "1"
      ]
     },
     "execution_count": 101,
     "metadata": {},
     "output_type": "execute_result"
    }
   ],
   "source": [
    "pikachu = Pokemon(name='피카츄', type='전기')\n",
    "pikachu.level"
   ]
  },
  {
   "cell_type": "code",
   "execution_count": 102,
   "metadata": {},
   "outputs": [
    {
     "data": {
      "text/plain": [
       "2"
      ]
     },
     "execution_count": 102,
     "metadata": {},
     "output_type": "execute_result"
    }
   ],
   "source": [
    "pikachu.level_up()\n",
    "pikachu.level"
   ]
  },
  {
   "cell_type": "code",
   "execution_count": 103,
   "metadata": {},
   "outputs": [
    {
     "name": "stdout",
     "output_type": "stream",
     "text": [
      "피카츄에게는 친구가 없습니다....\n"
     ]
    }
   ],
   "source": [
    "butterfree = Pokemon(name='버터플', type='벌레')\n",
    "starmie = Pokemon(name='아쿠스타', type='물')\n",
    "eevee = Pokemon(name='이브이', type='노멀')\n",
    "\n",
    "pikachu.show_friends()"
   ]
  },
  {
   "cell_type": "code",
   "execution_count": 104,
   "metadata": {},
   "outputs": [
    {
     "name": "stdout",
     "output_type": "stream",
     "text": [
      "피카츄의 친구들: 버터플, 아쿠스타 (2마리)\n"
     ]
    }
   ],
   "source": [
    "pikachu.add_friend(butterfree)\n",
    "pikachu.add_friend(starmie)\n",
    "pikachu.show_friends()"
   ]
  },
  {
   "cell_type": "code",
   "execution_count": 105,
   "metadata": {},
   "outputs": [
    {
     "name": "stdout",
     "output_type": "stream",
     "text": [
      "전체 포켓몬: 피카츄, 버터플, 아쿠스타, 이브이(4마리)\n"
     ]
    }
   ],
   "source": [
    "Pokemon.show_total_pokemon()"
   ]
  }
 ],
 "metadata": {
  "kernelspec": {
   "display_name": "Python 3",
   "language": "python",
   "name": "python3"
  },
  "language_info": {
   "codemirror_mode": {
    "name": "ipython",
    "version": 3
   },
   "file_extension": ".py",
   "mimetype": "text/x-python",
   "name": "python",
   "nbconvert_exporter": "python",
   "pygments_lexer": "ipython3",
   "version": "3.7.4"
  }
 },
 "nbformat": 4,
 "nbformat_minor": 2
}
